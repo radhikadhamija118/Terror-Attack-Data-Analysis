{
  "nbformat": 4,
  "nbformat_minor": 0,
  "metadata": {
    "colab": {
      "provenance": []
    },
    "kernelspec": {
      "name": "python3",
      "display_name": "Python 3"
    },
    "language_info": {
      "name": "python"
    }
  },
  "cells": [
    {
      "cell_type": "code",
      "source": [
        "from google.colab import drive\n",
        "drive.mount('/content/drive')\n"
      ],
      "metadata": {
        "colab": {
          "base_uri": "https://localhost:8080/"
        },
        "id": "z1jvXHV9ppwm",
        "outputId": "b5277edc-4a87-4587-a9b6-d3640590e371"
      },
      "execution_count": 1,
      "outputs": [
        {
          "output_type": "stream",
          "name": "stdout",
          "text": [
            "Mounted at /content/drive\n"
          ]
        }
      ]
    },
    {
      "cell_type": "code",
      "source": [
        "import pandas as pd\n",
        "data = pd.read_csv('/content/drive/My Drive/dataset/terrorismData.csv')\n",
        "df = pd.read_csv('/content/drive/My Drive/dataset/terrorismData.csv')"
      ],
      "metadata": {
        "id": "i091mnjepukg"
      },
      "execution_count": 2,
      "outputs": []
    },
    {
      "cell_type": "code",
      "source": [
        "df.head(5)"
      ],
      "metadata": {
        "colab": {
          "base_uri": "https://localhost:8080/",
          "height": 573
        },
        "id": "lz6OsM5epx-M",
        "outputId": "1e053392-dd37-4ffb-d0cc-11ecbeeb6a5b"
      },
      "execution_count": 7,
      "outputs": [
        {
          "output_type": "execute_result",
          "data": {
            "text/plain": [
              "    Year  Month  Day             Country        State          Region  \\\n",
              "31  1970      1   26       United States  Mississippi   North America   \n",
              "32  1970      1   26       United States     New York   North America   \n",
              "33  1970      1   27       United States         Ohio   North America   \n",
              "34  1970      1   28  East Germany (GDR)       Berlin  Eastern Europe   \n",
              "35  1970      1   28       United States   Washington   North America   \n",
              "\n",
              "             City   Latitude   Longitude                      AttackType  \\\n",
              "31     West Point  33.606510  -88.650419               Bombing/Explosion   \n",
              "32  New York City  40.697132  -73.931351                   Armed Assault   \n",
              "33        Norwalk  41.241996  -82.615241  Facility/Infrastructure Attack   \n",
              "34         Berlin  52.501530   13.401851  Facility/Infrastructure Attack   \n",
              "35        Seattle  47.610786 -122.331306               Bombing/Explosion   \n",
              "\n",
              "    Killed  Wounded                                             Target  \\\n",
              "31     0.0      0.0                             Clay County Courthouse   \n",
              "32     0.0      0.0  New York Police Officer on patrol in Forest Hills   \n",
              "33     0.0      0.0           Selective Service office in Norwalk Ohio   \n",
              "34     NaN      NaN             Residence of President of Penal Office   \n",
              "35     0.0      0.0                                   Temple De Hirsch   \n",
              "\n",
              "                                              Summary                Group  \\\n",
              "31  1/26/1970: Unknown African American assailants...   Black Nationalists   \n",
              "32  1/26/1970: Police officer Joseph Blik was on f...   Black Nationalists   \n",
              "33  1/27/1970: Unknown perpetrators broke into the...  Left-Wing Militants   \n",
              "34                                                NaN              Unknown   \n",
              "35  1/28/1970: Unknown perpetrators detonated an e...     White extremists   \n",
              "\n",
              "                       Target_type Weapon_type  \n",
              "31            Government (General)  Explosives  \n",
              "32                          Police    Firearms  \n",
              "33            Government (General)  Incendiary  \n",
              "34                          Police  Incendiary  \n",
              "35  Religious Figures/Institutions  Explosives  "
            ],
            "text/html": [
              "\n",
              "  <div id=\"df-5c8d97df-5dc4-44b3-8603-e4101bbec439\" class=\"colab-df-container\">\n",
              "    <div>\n",
              "<style scoped>\n",
              "    .dataframe tbody tr th:only-of-type {\n",
              "        vertical-align: middle;\n",
              "    }\n",
              "\n",
              "    .dataframe tbody tr th {\n",
              "        vertical-align: top;\n",
              "    }\n",
              "\n",
              "    .dataframe thead th {\n",
              "        text-align: right;\n",
              "    }\n",
              "</style>\n",
              "<table border=\"1\" class=\"dataframe\">\n",
              "  <thead>\n",
              "    <tr style=\"text-align: right;\">\n",
              "      <th></th>\n",
              "      <th>Year</th>\n",
              "      <th>Month</th>\n",
              "      <th>Day</th>\n",
              "      <th>Country</th>\n",
              "      <th>State</th>\n",
              "      <th>Region</th>\n",
              "      <th>City</th>\n",
              "      <th>Latitude</th>\n",
              "      <th>Longitude</th>\n",
              "      <th>AttackType</th>\n",
              "      <th>Killed</th>\n",
              "      <th>Wounded</th>\n",
              "      <th>Target</th>\n",
              "      <th>Summary</th>\n",
              "      <th>Group</th>\n",
              "      <th>Target_type</th>\n",
              "      <th>Weapon_type</th>\n",
              "    </tr>\n",
              "  </thead>\n",
              "  <tbody>\n",
              "    <tr>\n",
              "      <th>31</th>\n",
              "      <td>1970</td>\n",
              "      <td>1</td>\n",
              "      <td>26</td>\n",
              "      <td>United States</td>\n",
              "      <td>Mississippi</td>\n",
              "      <td>North America</td>\n",
              "      <td>West Point</td>\n",
              "      <td>33.606510</td>\n",
              "      <td>-88.650419</td>\n",
              "      <td>Bombing/Explosion</td>\n",
              "      <td>0.0</td>\n",
              "      <td>0.0</td>\n",
              "      <td>Clay County Courthouse</td>\n",
              "      <td>1/26/1970: Unknown African American assailants...</td>\n",
              "      <td>Black Nationalists</td>\n",
              "      <td>Government (General)</td>\n",
              "      <td>Explosives</td>\n",
              "    </tr>\n",
              "    <tr>\n",
              "      <th>32</th>\n",
              "      <td>1970</td>\n",
              "      <td>1</td>\n",
              "      <td>26</td>\n",
              "      <td>United States</td>\n",
              "      <td>New York</td>\n",
              "      <td>North America</td>\n",
              "      <td>New York City</td>\n",
              "      <td>40.697132</td>\n",
              "      <td>-73.931351</td>\n",
              "      <td>Armed Assault</td>\n",
              "      <td>0.0</td>\n",
              "      <td>0.0</td>\n",
              "      <td>New York Police Officer on patrol in Forest Hills</td>\n",
              "      <td>1/26/1970: Police officer Joseph Blik was on f...</td>\n",
              "      <td>Black Nationalists</td>\n",
              "      <td>Police</td>\n",
              "      <td>Firearms</td>\n",
              "    </tr>\n",
              "    <tr>\n",
              "      <th>33</th>\n",
              "      <td>1970</td>\n",
              "      <td>1</td>\n",
              "      <td>27</td>\n",
              "      <td>United States</td>\n",
              "      <td>Ohio</td>\n",
              "      <td>North America</td>\n",
              "      <td>Norwalk</td>\n",
              "      <td>41.241996</td>\n",
              "      <td>-82.615241</td>\n",
              "      <td>Facility/Infrastructure Attack</td>\n",
              "      <td>0.0</td>\n",
              "      <td>0.0</td>\n",
              "      <td>Selective Service office in Norwalk Ohio</td>\n",
              "      <td>1/27/1970: Unknown perpetrators broke into the...</td>\n",
              "      <td>Left-Wing Militants</td>\n",
              "      <td>Government (General)</td>\n",
              "      <td>Incendiary</td>\n",
              "    </tr>\n",
              "    <tr>\n",
              "      <th>34</th>\n",
              "      <td>1970</td>\n",
              "      <td>1</td>\n",
              "      <td>28</td>\n",
              "      <td>East Germany (GDR)</td>\n",
              "      <td>Berlin</td>\n",
              "      <td>Eastern Europe</td>\n",
              "      <td>Berlin</td>\n",
              "      <td>52.501530</td>\n",
              "      <td>13.401851</td>\n",
              "      <td>Facility/Infrastructure Attack</td>\n",
              "      <td>NaN</td>\n",
              "      <td>NaN</td>\n",
              "      <td>Residence of President of Penal Office</td>\n",
              "      <td>NaN</td>\n",
              "      <td>Unknown</td>\n",
              "      <td>Police</td>\n",
              "      <td>Incendiary</td>\n",
              "    </tr>\n",
              "    <tr>\n",
              "      <th>35</th>\n",
              "      <td>1970</td>\n",
              "      <td>1</td>\n",
              "      <td>28</td>\n",
              "      <td>United States</td>\n",
              "      <td>Washington</td>\n",
              "      <td>North America</td>\n",
              "      <td>Seattle</td>\n",
              "      <td>47.610786</td>\n",
              "      <td>-122.331306</td>\n",
              "      <td>Bombing/Explosion</td>\n",
              "      <td>0.0</td>\n",
              "      <td>0.0</td>\n",
              "      <td>Temple De Hirsch</td>\n",
              "      <td>1/28/1970: Unknown perpetrators detonated an e...</td>\n",
              "      <td>White extremists</td>\n",
              "      <td>Religious Figures/Institutions</td>\n",
              "      <td>Explosives</td>\n",
              "    </tr>\n",
              "  </tbody>\n",
              "</table>\n",
              "</div>\n",
              "    <div class=\"colab-df-buttons\">\n",
              "\n",
              "  <div class=\"colab-df-container\">\n",
              "    <button class=\"colab-df-convert\" onclick=\"convertToInteractive('df-5c8d97df-5dc4-44b3-8603-e4101bbec439')\"\n",
              "            title=\"Convert this dataframe to an interactive table.\"\n",
              "            style=\"display:none;\">\n",
              "\n",
              "  <svg xmlns=\"http://www.w3.org/2000/svg\" height=\"24px\" viewBox=\"0 -960 960 960\">\n",
              "    <path d=\"M120-120v-720h720v720H120Zm60-500h600v-160H180v160Zm220 220h160v-160H400v160Zm0 220h160v-160H400v160ZM180-400h160v-160H180v160Zm440 0h160v-160H620v160ZM180-180h160v-160H180v160Zm440 0h160v-160H620v160Z\"/>\n",
              "  </svg>\n",
              "    </button>\n",
              "\n",
              "  <style>\n",
              "    .colab-df-container {\n",
              "      display:flex;\n",
              "      gap: 12px;\n",
              "    }\n",
              "\n",
              "    .colab-df-convert {\n",
              "      background-color: #E8F0FE;\n",
              "      border: none;\n",
              "      border-radius: 50%;\n",
              "      cursor: pointer;\n",
              "      display: none;\n",
              "      fill: #1967D2;\n",
              "      height: 32px;\n",
              "      padding: 0 0 0 0;\n",
              "      width: 32px;\n",
              "    }\n",
              "\n",
              "    .colab-df-convert:hover {\n",
              "      background-color: #E2EBFA;\n",
              "      box-shadow: 0px 1px 2px rgba(60, 64, 67, 0.3), 0px 1px 3px 1px rgba(60, 64, 67, 0.15);\n",
              "      fill: #174EA6;\n",
              "    }\n",
              "\n",
              "    .colab-df-buttons div {\n",
              "      margin-bottom: 4px;\n",
              "    }\n",
              "\n",
              "    [theme=dark] .colab-df-convert {\n",
              "      background-color: #3B4455;\n",
              "      fill: #D2E3FC;\n",
              "    }\n",
              "\n",
              "    [theme=dark] .colab-df-convert:hover {\n",
              "      background-color: #434B5C;\n",
              "      box-shadow: 0px 1px 3px 1px rgba(0, 0, 0, 0.15);\n",
              "      filter: drop-shadow(0px 1px 2px rgba(0, 0, 0, 0.3));\n",
              "      fill: #FFFFFF;\n",
              "    }\n",
              "  </style>\n",
              "\n",
              "    <script>\n",
              "      const buttonEl =\n",
              "        document.querySelector('#df-5c8d97df-5dc4-44b3-8603-e4101bbec439 button.colab-df-convert');\n",
              "      buttonEl.style.display =\n",
              "        google.colab.kernel.accessAllowed ? 'block' : 'none';\n",
              "\n",
              "      async function convertToInteractive(key) {\n",
              "        const element = document.querySelector('#df-5c8d97df-5dc4-44b3-8603-e4101bbec439');\n",
              "        const dataTable =\n",
              "          await google.colab.kernel.invokeFunction('convertToInteractive',\n",
              "                                                    [key], {});\n",
              "        if (!dataTable) return;\n",
              "\n",
              "        const docLinkHtml = 'Like what you see? Visit the ' +\n",
              "          '<a target=\"_blank\" href=https://colab.research.google.com/notebooks/data_table.ipynb>data table notebook</a>'\n",
              "          + ' to learn more about interactive tables.';\n",
              "        element.innerHTML = '';\n",
              "        dataTable['output_type'] = 'display_data';\n",
              "        await google.colab.output.renderOutput(dataTable, element);\n",
              "        const docLink = document.createElement('div');\n",
              "        docLink.innerHTML = docLinkHtml;\n",
              "        element.appendChild(docLink);\n",
              "      }\n",
              "    </script>\n",
              "  </div>\n",
              "\n",
              "\n",
              "<div id=\"df-4270e1e0-8c41-4f91-af00-91534308dd28\">\n",
              "  <button class=\"colab-df-quickchart\" onclick=\"quickchart('df-4270e1e0-8c41-4f91-af00-91534308dd28')\"\n",
              "            title=\"Suggest charts\"\n",
              "            style=\"display:none;\">\n",
              "\n",
              "<svg xmlns=\"http://www.w3.org/2000/svg\" height=\"24px\"viewBox=\"0 0 24 24\"\n",
              "     width=\"24px\">\n",
              "    <g>\n",
              "        <path d=\"M19 3H5c-1.1 0-2 .9-2 2v14c0 1.1.9 2 2 2h14c1.1 0 2-.9 2-2V5c0-1.1-.9-2-2-2zM9 17H7v-7h2v7zm4 0h-2V7h2v10zm4 0h-2v-4h2v4z\"/>\n",
              "    </g>\n",
              "</svg>\n",
              "  </button>\n",
              "\n",
              "<style>\n",
              "  .colab-df-quickchart {\n",
              "      --bg-color: #E8F0FE;\n",
              "      --fill-color: #1967D2;\n",
              "      --hover-bg-color: #E2EBFA;\n",
              "      --hover-fill-color: #174EA6;\n",
              "      --disabled-fill-color: #AAA;\n",
              "      --disabled-bg-color: #DDD;\n",
              "  }\n",
              "\n",
              "  [theme=dark] .colab-df-quickchart {\n",
              "      --bg-color: #3B4455;\n",
              "      --fill-color: #D2E3FC;\n",
              "      --hover-bg-color: #434B5C;\n",
              "      --hover-fill-color: #FFFFFF;\n",
              "      --disabled-bg-color: #3B4455;\n",
              "      --disabled-fill-color: #666;\n",
              "  }\n",
              "\n",
              "  .colab-df-quickchart {\n",
              "    background-color: var(--bg-color);\n",
              "    border: none;\n",
              "    border-radius: 50%;\n",
              "    cursor: pointer;\n",
              "    display: none;\n",
              "    fill: var(--fill-color);\n",
              "    height: 32px;\n",
              "    padding: 0;\n",
              "    width: 32px;\n",
              "  }\n",
              "\n",
              "  .colab-df-quickchart:hover {\n",
              "    background-color: var(--hover-bg-color);\n",
              "    box-shadow: 0 1px 2px rgba(60, 64, 67, 0.3), 0 1px 3px 1px rgba(60, 64, 67, 0.15);\n",
              "    fill: var(--button-hover-fill-color);\n",
              "  }\n",
              "\n",
              "  .colab-df-quickchart-complete:disabled,\n",
              "  .colab-df-quickchart-complete:disabled:hover {\n",
              "    background-color: var(--disabled-bg-color);\n",
              "    fill: var(--disabled-fill-color);\n",
              "    box-shadow: none;\n",
              "  }\n",
              "\n",
              "  .colab-df-spinner {\n",
              "    border: 2px solid var(--fill-color);\n",
              "    border-color: transparent;\n",
              "    border-bottom-color: var(--fill-color);\n",
              "    animation:\n",
              "      spin 1s steps(1) infinite;\n",
              "  }\n",
              "\n",
              "  @keyframes spin {\n",
              "    0% {\n",
              "      border-color: transparent;\n",
              "      border-bottom-color: var(--fill-color);\n",
              "      border-left-color: var(--fill-color);\n",
              "    }\n",
              "    20% {\n",
              "      border-color: transparent;\n",
              "      border-left-color: var(--fill-color);\n",
              "      border-top-color: var(--fill-color);\n",
              "    }\n",
              "    30% {\n",
              "      border-color: transparent;\n",
              "      border-left-color: var(--fill-color);\n",
              "      border-top-color: var(--fill-color);\n",
              "      border-right-color: var(--fill-color);\n",
              "    }\n",
              "    40% {\n",
              "      border-color: transparent;\n",
              "      border-right-color: var(--fill-color);\n",
              "      border-top-color: var(--fill-color);\n",
              "    }\n",
              "    60% {\n",
              "      border-color: transparent;\n",
              "      border-right-color: var(--fill-color);\n",
              "    }\n",
              "    80% {\n",
              "      border-color: transparent;\n",
              "      border-right-color: var(--fill-color);\n",
              "      border-bottom-color: var(--fill-color);\n",
              "    }\n",
              "    90% {\n",
              "      border-color: transparent;\n",
              "      border-bottom-color: var(--fill-color);\n",
              "    }\n",
              "  }\n",
              "</style>\n",
              "\n",
              "  <script>\n",
              "    async function quickchart(key) {\n",
              "      const quickchartButtonEl =\n",
              "        document.querySelector('#' + key + ' button');\n",
              "      quickchartButtonEl.disabled = true;  // To prevent multiple clicks.\n",
              "      quickchartButtonEl.classList.add('colab-df-spinner');\n",
              "      try {\n",
              "        const charts = await google.colab.kernel.invokeFunction(\n",
              "            'suggestCharts', [key], {});\n",
              "      } catch (error) {\n",
              "        console.error('Error during call to suggestCharts:', error);\n",
              "      }\n",
              "      quickchartButtonEl.classList.remove('colab-df-spinner');\n",
              "      quickchartButtonEl.classList.add('colab-df-quickchart-complete');\n",
              "    }\n",
              "    (() => {\n",
              "      let quickchartButtonEl =\n",
              "        document.querySelector('#df-4270e1e0-8c41-4f91-af00-91534308dd28 button');\n",
              "      quickchartButtonEl.style.display =\n",
              "        google.colab.kernel.accessAllowed ? 'block' : 'none';\n",
              "    })();\n",
              "  </script>\n",
              "</div>\n",
              "\n",
              "    </div>\n",
              "  </div>\n"
            ],
            "application/vnd.google.colaboratory.intrinsic+json": {
              "type": "dataframe",
              "variable_name": "df",
              "summary": "{\n  \"name\": \"df\",\n  \"rows\": 31435,\n  \"fields\": [\n    {\n      \"column\": \"Year\",\n      \"properties\": {\n        \"dtype\": \"number\",\n        \"std\": 13,\n        \"min\": 1970,\n        \"max\": 2017,\n        \"num_unique_values\": 47,\n        \"samples\": [\n          1998,\n          2010,\n          1997\n        ],\n        \"semantic_type\": \"\",\n        \"description\": \"\"\n      }\n    },\n    {\n      \"column\": \"Month\",\n      \"properties\": {\n        \"dtype\": \"number\",\n        \"std\": 3,\n        \"min\": 1,\n        \"max\": 12,\n        \"num_unique_values\": 12,\n        \"samples\": [\n          11,\n          10,\n          1\n        ],\n        \"semantic_type\": \"\",\n        \"description\": \"\"\n      }\n    },\n    {\n      \"column\": \"Day\",\n      \"properties\": {\n        \"dtype\": \"number\",\n        \"std\": 1,\n        \"min\": 26,\n        \"max\": 31,\n        \"num_unique_values\": 6,\n        \"samples\": [\n          26,\n          27,\n          29\n        ],\n        \"semantic_type\": \"\",\n        \"description\": \"\"\n      }\n    },\n    {\n      \"column\": \"Country\",\n      \"properties\": {\n        \"dtype\": \"category\",\n        \"num_unique_values\": 180,\n        \"samples\": [\n          \"Czechoslovakia\",\n          \"West Bank and Gaza Strip\",\n          \"Trinidad and Tobago\"\n        ],\n        \"semantic_type\": \"\",\n        \"description\": \"\"\n      }\n    },\n    {\n      \"column\": \"State\",\n      \"properties\": {\n        \"dtype\": \"category\",\n        \"num_unique_values\": 1530,\n        \"samples\": [\n          \"Mizoram\",\n          \"Donegal\",\n          \"Guainia\"\n        ],\n        \"semantic_type\": \"\",\n        \"description\": \"\"\n      }\n    },\n    {\n      \"column\": \"Region\",\n      \"properties\": {\n        \"dtype\": \"category\",\n        \"num_unique_values\": 12,\n        \"samples\": [\n          \"Australasia & Oceania\",\n          \"South Asia\",\n          \"North America\"\n        ],\n        \"semantic_type\": \"\",\n        \"description\": \"\"\n      }\n    },\n    {\n      \"column\": \"City\",\n      \"properties\": {\n        \"dtype\": \"category\",\n        \"num_unique_values\": 10148,\n        \"samples\": [\n          \"Ayacucho\",\n          \"Labo\",\n          \"Diyam-Rim\"\n        ],\n        \"semantic_type\": \"\",\n        \"description\": \"\"\n      }\n    },\n    {\n      \"column\": \"Latitude\",\n      \"properties\": {\n        \"dtype\": \"number\",\n        \"std\": 18.817787436880163,\n        \"min\": -45.403544,\n        \"max\": 64.135338,\n        \"num_unique_values\": 12064,\n        \"samples\": [\n          4.613543,\n          0.515075,\n          23.232415\n        ],\n        \"semantic_type\": \"\",\n        \"description\": \"\"\n      }\n    },\n    {\n      \"column\": \"Longitude\",\n      \"properties\": {\n        \"dtype\": \"number\",\n        \"std\": 56.57774271860769,\n        \"min\": -157.81896799999998,\n        \"max\": 179.366667,\n        \"num_unique_values\": 11978,\n        \"samples\": [\n          42.572021,\n          124.674882,\n          35.290105\n        ],\n        \"semantic_type\": \"\",\n        \"description\": \"\"\n      }\n    },\n    {\n      \"column\": \"AttackType\",\n      \"properties\": {\n        \"dtype\": \"category\",\n        \"num_unique_values\": 9,\n        \"samples\": [\n          \"Hostage Taking (Barricade Incident)\",\n          \"Armed Assault\",\n          \"Hijacking\"\n        ],\n        \"semantic_type\": \"\",\n        \"description\": \"\"\n      }\n    },\n    {\n      \"column\": \"Killed\",\n      \"properties\": {\n        \"dtype\": \"number\",\n        \"std\": 7.715192295364269,\n        \"min\": 0.0,\n        \"max\": 270.0,\n        \"num_unique_values\": 103,\n        \"samples\": [\n          31.0,\n          53.0,\n          180.0\n        ],\n        \"semantic_type\": \"\",\n        \"description\": \"\"\n      }\n    },\n    {\n      \"column\": \"Wounded\",\n      \"properties\": {\n        \"dtype\": \"number\",\n        \"std\": 13.86953845930963,\n        \"min\": 0.0,\n        \"max\": 1272.0,\n        \"num_unique_values\": 135,\n        \"samples\": [\n          155.0,\n          43.0,\n          52.0\n        ],\n        \"semantic_type\": \"\",\n        \"description\": \"\"\n      }\n    },\n    {\n      \"column\": \"Target\",\n      \"properties\": {\n        \"dtype\": \"string\",\n        \"num_unique_values\": 16397,\n        \"samples\": [\n          \"The house of the director of the al-Ayadiya district\",\n          \"Trucks carrying concete  blast walls for a U.S. base south of Kirkuk.\",\n          \"La Catorce Department Store\"\n        ],\n        \"semantic_type\": \"\",\n        \"description\": \"\"\n      }\n    },\n    {\n      \"column\": \"Summary\",\n      \"properties\": {\n        \"dtype\": \"string\",\n        \"num_unique_values\": 19756,\n        \"samples\": [\n          \"07/30/2014: Assailants launched grenades, intended to target a military base, in Miranda town, Cauca department, Colombia. One civilian was killed and two others were wounded in the attack. No group claimed responsibility for the incident; however, sources attributed the attack to the Revolutionary Armed Forces of Colombia (FARC).\",\n          \"06/28/2014: An explosive device detonated along a road in Bayda city, Al-Bayda governorate, Yemen. There were no reported casualties in the blast. No group claimed responsibility for the attack.\",\n          \"01/26/2016: An explosive device planted at the Sudanese embassy was discovered and defused in Tripoli, Libya. An arrested assailant claimed responsibility for the attack.\"\n        ],\n        \"semantic_type\": \"\",\n        \"description\": \"\"\n      }\n    },\n    {\n      \"column\": \"Group\",\n      \"properties\": {\n        \"dtype\": \"category\",\n        \"num_unique_values\": 1347,\n        \"samples\": [\n          \"Saif-ul-Muslimeen\",\n          \"Mayi Mayi\",\n          \"Anti-Abortion extremists\"\n        ],\n        \"semantic_type\": \"\",\n        \"description\": \"\"\n      }\n    },\n    {\n      \"column\": \"Target_type\",\n      \"properties\": {\n        \"dtype\": \"category\",\n        \"num_unique_values\": 22,\n        \"samples\": [\n          \"Government (General)\",\n          \"Utilities\",\n          \"Government (Diplomatic)\"\n        ],\n        \"semantic_type\": \"\",\n        \"description\": \"\"\n      }\n    },\n    {\n      \"column\": \"Weapon_type\",\n      \"properties\": {\n        \"dtype\": \"category\",\n        \"num_unique_values\": 12,\n        \"samples\": [\n          \"Fake Weapons\",\n          \"Other\",\n          \"Explosives\"\n        ],\n        \"semantic_type\": \"\",\n        \"description\": \"\"\n      }\n    }\n  ]\n}"
            }
          },
          "metadata": {},
          "execution_count": 7
        }
      ]
    },
    {
      "cell_type": "code",
      "source": [
        "df = df[(df.State == 'Jammu and Kashmir')]\n",
        "\n",
        "pivot1 = df.groupby('City').count()['AttackType'].sort_values(ascending=False)\n",
        "city = pivot1.index[0]\n",
        "Attacks = pivot1.iloc[0]\n",
        "print(City,Attacks)\n"
      ],
      "metadata": {
        "colab": {
          "base_uri": "https://localhost:8080/"
        },
        "id": "kY-SaVID1Xyk",
        "outputId": "d90063f0-eb23-4b50-94bf-90f8da0e0c0c"
      },
      "execution_count": 33,
      "outputs": [
        {
          "output_type": "stream",
          "name": "stdout",
          "text": [
            "Srinagar 351\n"
          ]
        }
      ]
    },
    {
      "cell_type": "code",
      "source": [
        "df = data.copy()\n",
        "df = df[(df.State == 'Jammu and Kashmir')]\n",
        "\n",
        "pivot1 = df.groupby('City').count()['AttackType'].sort_values(ascending= False)\n",
        "city = pivot1.index[0]\n",
        "attacks = pivot1.values[0]\n",
        "df1 = df[(df.City == city) & (df.Group != 'Unknown')]\n",
        "pivot2 = df1.groupby('Group').count()['AttackType'].sort_values(ascending= False)\n",
        "group = pivot2.index[0]\n",
        "print(city, attacks, group)"
      ],
      "metadata": {
        "colab": {
          "base_uri": "https://localhost:8080/"
        },
        "id": "jHcrbv6QBfjd",
        "outputId": "392e2313-64b3-4277-ad87-27dc3cd19e84"
      },
      "execution_count": 37,
      "outputs": [
        {
          "output_type": "stream",
          "name": "stdout",
          "text": [
            "Srinagar 657 Muslim Separatists\n"
          ]
        }
      ]
    },
    {
      "cell_type": "code",
      "source": [
        "df = data.copy()\n",
        "pivot3 = df.groupby('Country').count()['AttackType'].sort_values(ascending= False)\n",
        "country = pivot3.index[0]\n",
        "attacks = pivot3.values[0]\n",
        "df1 = df[df.Country == country]\n",
        "pivot4 = df1.groupby('Year').count()['AttackType'].sort_values(ascending= False)\n",
        "year = pivot4.index[0]\n",
        "print(country,attacks,year)\n"
      ],
      "metadata": {
        "colab": {
          "base_uri": "https://localhost:8080/"
        },
        "id": "O6-5ekR1C85i",
        "outputId": "79677b2c-4445-479c-9cc8-ca0c9efc4671"
      },
      "execution_count": 42,
      "outputs": [
        {
          "output_type": "stream",
          "name": "stdout",
          "text": [
            "Iraq 24636 2014\n"
          ]
        }
      ]
    },
    {
      "cell_type": "code",
      "source": [
        "df = data.copy()\n",
        "df = df[df.Killed == df.Killed.max()]\n",
        "killed = df.iloc[0].Killed\n",
        "print(int(killed))"
      ],
      "metadata": {
        "colab": {
          "base_uri": "https://localhost:8080/"
        },
        "id": "5pGpquBLKjao",
        "outputId": "72b6d4d7-7147-47b1-9e4a-81d1ec80471f"
      },
      "execution_count": 49,
      "outputs": [
        {
          "output_type": "stream",
          "name": "stdout",
          "text": [
            "1570\n"
          ]
        }
      ]
    },
    {
      "cell_type": "code",
      "source": [
        "df = data.copy()\n",
        "df1 = df[df.Year > 2014]\n",
        "df2 = df[df.Year == 2014]\n",
        "df2 = df2[df2.Month > 5]\n",
        "df3 = df[(df.Year == 2014) & (df.Month == 5) & (df.Day >= 26)]\n",
        "\n",
        "df4 = pd.concat([df1,df2,df3]).reset_index(drop = True)\n",
        "\n",
        "df4 = df4[(df4.Country == 'India')]\n",
        "pivot1 = df4.groupby('Country').count()['AttackType'].sort_values(ascending=False)\n",
        "attacks = pivot1.values[0]\n",
        "pivot2 = df4.groupby('Group').count()['AttackType'].sort_values(ascending=False)\n",
        "group = pivot2.index[1]\n",
        "print(group, attacks)"
      ],
      "metadata": {
        "colab": {
          "base_uri": "https://localhost:8080/"
        },
        "id": "IGadAhcqLLTs",
        "outputId": "101bf7c7-8825-4c3a-d233-c977be401bc8"
      },
      "execution_count": 58,
      "outputs": [
        {
          "output_type": "stream",
          "name": "stdout",
          "text": [
            "Maoists 3336\n"
          ]
        }
      ]
    },
    {
      "cell_type": "code",
      "source": [
        "df = data.copy()\n",
        "red_corridor_states = ['Jharkhand', 'Odisha', 'Andhra Pradesh', 'Chhattisgarh']\n",
        "red_corridor_data = df[df.State.isin(red_corridor_states)]\n",
        "jammu_kashmir_data = df[df.State == 'Jammu and Kashmir']\n",
        "\n",
        "red_corridor_data['total_casualities'] = red_corridor_data['Killed'] + red_corridor_data['Wounded']\n",
        "jammu_kashmir_data['total_casualities'] = jammu_kashmir_data['Killed'] + jammu_kashmir_data['Wounded']\n",
        "red_corridor_casualities = red_corridor_data['total_casualities'].sum()\n",
        "jammu_kashmir_casualities = jammu_kashmir_data['total_casualities'].sum()\n",
        "\n",
        "total_years = df['Year'].nunique()\n",
        "red_corridor_frequency = int(red_corridor_casualities/total_years)\n",
        "jammu_kashmir_frequency = int(jammu_kashmir_casualities/total_years)\n",
        "\n",
        "print(\"Red Corridor Frequency\",red_corridor_frequency, \"Jammu and Kashmir Frequency\",jammu_kashmir_frequency)"
      ],
      "metadata": {
        "colab": {
          "base_uri": "https://localhost:8080/"
        },
        "id": "aBpyESZV9BkY",
        "outputId": "e016abb8-4714-4aef-d7de-685a4dc8f40c"
      },
      "execution_count": 4,
      "outputs": [
        {
          "output_type": "stream",
          "name": "stdout",
          "text": [
            "Red Corridor Frequency 115 Jammu and Kashmir Frequency 261\n"
          ]
        },
        {
          "output_type": "stream",
          "name": "stderr",
          "text": [
            "<ipython-input-4-28eced5611ee>:6: SettingWithCopyWarning: \n",
            "A value is trying to be set on a copy of a slice from a DataFrame.\n",
            "Try using .loc[row_indexer,col_indexer] = value instead\n",
            "\n",
            "See the caveats in the documentation: https://pandas.pydata.org/pandas-docs/stable/user_guide/indexing.html#returning-a-view-versus-a-copy\n",
            "  red_corridor_data['total_casualities'] = red_corridor_data['Killed'] + red_corridor_data['Wounded']\n",
            "<ipython-input-4-28eced5611ee>:7: SettingWithCopyWarning: \n",
            "A value is trying to be set on a copy of a slice from a DataFrame.\n",
            "Try using .loc[row_indexer,col_indexer] = value instead\n",
            "\n",
            "See the caveats in the documentation: https://pandas.pydata.org/pandas-docs/stable/user_guide/indexing.html#returning-a-view-versus-a-copy\n",
            "  jammu_kashmir_data['total_casualities'] = jammu_kashmir_data['Killed'] + jammu_kashmir_data['Wounded']\n"
          ]
        }
      ]
    },
    {
      "cell_type": "code",
      "source": [],
      "metadata": {
        "id": "-C4R_ef_xV5-"
      },
      "execution_count": null,
      "outputs": []
    }
  ]
}